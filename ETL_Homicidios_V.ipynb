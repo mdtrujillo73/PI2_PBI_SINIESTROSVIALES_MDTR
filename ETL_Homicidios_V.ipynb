{
 "cells": [
  {
   "cell_type": "markdown",
   "metadata": {},
   "source": [
    "# </br>LIMPIEZA DE DATOS HOMICIDIOS-VICTIMAS"
   ]
  },
  {
   "cell_type": "markdown",
   "metadata": {},
   "source": [
    "# 1. El problema del proyecto\n",
    "\n",
    "El Observatorio de Movilidad y Seguridad Vial (OMSV), donde trabajo, como centro de estudios bajo la Secretaría de Transporte del Gobierno de la Ciudad Autónoma de Buenos Aires, me ha encargado la elaboración de un proyecto de análisis de datos. El objetivo es generar información que permita a las autoridades locales tomar medidas para reducir la cantidad de víctimas fatales en accidentes de tránsito. Para ello, me han proporcionado un conjunto de datos en formato xlsx que detalla los homicidios en siniestros viales ocurridos en la Ciudad de Buenos Aires entre 2016 y 2021. Este conjunto de datos consta de dos hojas, \"hechos\" y \"víctimas\", y también incluye dos hojas adicionales con diccionarios de datos para facilitar la comprensión de la información proporcionada."
   ]
  },
  {
   "cell_type": "markdown",
   "metadata": {},
   "source": [
    "# 2. los Set de datos\n",
    "\n",
    "La información recolectada por el OMSV se encuentran el archivo `homicidios.xlsx`\n",
    "\n",
    "* `homicidios.xlsx` - Hoja: VICTIMA. Cuenta con 17 Columnas y 717 filas\n",
    "Cada registro contiene 17 características o columnas.  Las columnas son:\n",
    "1. \"ID_hecho\":\tidentificador unico del siniestro\n",
    "2. \"FECHA\":\tfecha en formato dd/mm/aaaa\n",
    "3. \"AAAA\":\taño\n",
    "4. \"MM\":\tmes\n",
    "5. \"DD\":\tdía del mes\n",
    "6. \"ROL\":\tPosición relativa al vehículo que presentaba la víctima en el momento del siniestro\n",
    "7. \"VICTIMA\":\tVehículo que ocupaba quien haya fallecido a se haya lastimado a raíz del hecho, o bien peatón/a. Clasificación agregada del tipo de vehículos.\n",
    "8. \"SEXO\":\tSexo informado por fuente policial de la víctima\n",
    "9. \"EDAD\":\tEdad de la víctima al momento del siniestro\n",
    "10. \"FECHA_FALLECIMIENTO\":\tFecha de fallecimiento de la víctima"
   ]
  },
  {
   "cell_type": "markdown",
   "metadata": {},
   "source": [
    "# 3. Una primera mirada al dataset"
   ]
  },
  {
   "cell_type": "code",
   "execution_count": 1,
   "metadata": {},
   "outputs": [],
   "source": [
    "# Importar librerías\n",
    "import pandas as pd\n",
    "import matplotlib.pyplot as plt\n",
    "import seaborn as sns\n",
    "import numpy as np "
   ]
  },
  {
   "cell_type": "markdown",
   "metadata": {},
   "source": [
    "Revisando la hoja: VICTIMAS en el archivo de homicidios.xls"
   ]
  },
  {
   "cell_type": "code",
   "execution_count": 2,
   "metadata": {},
   "outputs": [
    {
     "name": "stdout",
     "output_type": "stream",
     "text": [
      "Número de filas del Dataset homicidios VICTIMAS: 717\n",
      "Número de columnas del Dataset homicidios VICTIMAS: 10\n"
     ]
    },
    {
     "data": {
      "text/html": [
       "<div>\n",
       "<style scoped>\n",
       "    .dataframe tbody tr th:only-of-type {\n",
       "        vertical-align: middle;\n",
       "    }\n",
       "\n",
       "    .dataframe tbody tr th {\n",
       "        vertical-align: top;\n",
       "    }\n",
       "\n",
       "    .dataframe thead th {\n",
       "        text-align: right;\n",
       "    }\n",
       "</style>\n",
       "<table border=\"1\" class=\"dataframe\">\n",
       "  <thead>\n",
       "    <tr style=\"text-align: right;\">\n",
       "      <th></th>\n",
       "      <th>ID_hecho</th>\n",
       "      <th>FECHA</th>\n",
       "      <th>AAAA</th>\n",
       "      <th>MM</th>\n",
       "      <th>DD</th>\n",
       "      <th>ROL</th>\n",
       "      <th>VICTIMA</th>\n",
       "      <th>SEXO</th>\n",
       "      <th>EDAD</th>\n",
       "      <th>FECHA_FALLECIMIENTO</th>\n",
       "    </tr>\n",
       "  </thead>\n",
       "  <tbody>\n",
       "    <tr>\n",
       "      <th>0</th>\n",
       "      <td>2016-0001</td>\n",
       "      <td>2016-01-01</td>\n",
       "      <td>2016</td>\n",
       "      <td>1</td>\n",
       "      <td>1</td>\n",
       "      <td>CONDUCTOR</td>\n",
       "      <td>MOTO</td>\n",
       "      <td>MASCULINO</td>\n",
       "      <td>19</td>\n",
       "      <td>2016-01-01 00:00:00</td>\n",
       "    </tr>\n",
       "    <tr>\n",
       "      <th>1</th>\n",
       "      <td>2016-0002</td>\n",
       "      <td>2016-01-02</td>\n",
       "      <td>2016</td>\n",
       "      <td>1</td>\n",
       "      <td>2</td>\n",
       "      <td>CONDUCTOR</td>\n",
       "      <td>AUTO</td>\n",
       "      <td>MASCULINO</td>\n",
       "      <td>70</td>\n",
       "      <td>2016-01-02 00:00:00</td>\n",
       "    </tr>\n",
       "    <tr>\n",
       "      <th>2</th>\n",
       "      <td>2016-0003</td>\n",
       "      <td>2016-01-03</td>\n",
       "      <td>2016</td>\n",
       "      <td>1</td>\n",
       "      <td>3</td>\n",
       "      <td>CONDUCTOR</td>\n",
       "      <td>MOTO</td>\n",
       "      <td>MASCULINO</td>\n",
       "      <td>30</td>\n",
       "      <td>2016-01-03 00:00:00</td>\n",
       "    </tr>\n",
       "    <tr>\n",
       "      <th>3</th>\n",
       "      <td>2016-0004</td>\n",
       "      <td>2016-01-10</td>\n",
       "      <td>2016</td>\n",
       "      <td>1</td>\n",
       "      <td>10</td>\n",
       "      <td>CONDUCTOR</td>\n",
       "      <td>MOTO</td>\n",
       "      <td>MASCULINO</td>\n",
       "      <td>18</td>\n",
       "      <td>SD</td>\n",
       "    </tr>\n",
       "    <tr>\n",
       "      <th>4</th>\n",
       "      <td>2016-0005</td>\n",
       "      <td>2016-01-21</td>\n",
       "      <td>2016</td>\n",
       "      <td>1</td>\n",
       "      <td>21</td>\n",
       "      <td>CONDUCTOR</td>\n",
       "      <td>MOTO</td>\n",
       "      <td>MASCULINO</td>\n",
       "      <td>29</td>\n",
       "      <td>2016-02-01 00:00:00</td>\n",
       "    </tr>\n",
       "  </tbody>\n",
       "</table>\n",
       "</div>"
      ],
      "text/plain": [
       "    ID_hecho      FECHA  AAAA  MM  DD        ROL VICTIMA       SEXO EDAD  \\\n",
       "0  2016-0001 2016-01-01  2016   1   1  CONDUCTOR    MOTO  MASCULINO   19   \n",
       "1  2016-0002 2016-01-02  2016   1   2  CONDUCTOR    AUTO  MASCULINO   70   \n",
       "2  2016-0003 2016-01-03  2016   1   3  CONDUCTOR    MOTO  MASCULINO   30   \n",
       "3  2016-0004 2016-01-10  2016   1  10  CONDUCTOR    MOTO  MASCULINO   18   \n",
       "4  2016-0005 2016-01-21  2016   1  21  CONDUCTOR    MOTO  MASCULINO   29   \n",
       "\n",
       "   FECHA_FALLECIMIENTO  \n",
       "0  2016-01-01 00:00:00  \n",
       "1  2016-01-02 00:00:00  \n",
       "2  2016-01-03 00:00:00  \n",
       "3                   SD  \n",
       "4  2016-02-01 00:00:00  "
      ]
     },
     "execution_count": 2,
     "metadata": {},
     "output_type": "execute_result"
    }
   ],
   "source": [
    "\n",
    "# Nombre del archivo Excel\n",
    "archivo_excel = 'homicidios.xlsx'\n",
    "\n",
    "# Leer el archivo Excel y cargarlo en un DataFrame\n",
    "df_homicidios_V= pd.read_excel(archivo_excel, sheet_name='VICTIMAS')\n",
    "\n",
    "# Suponiendo que 'df' es tu DataFrame\n",
    "dimensiones = df_homicidios_V.shape\n",
    "\n",
    "# Obtener el número de filas y columnas\n",
    "num_filas = dimensiones[0]\n",
    "num_columnas = dimensiones[1]\n",
    "\n",
    "# Imprimir las dimensiones\n",
    "print(\"Número de filas del Dataset homicidios VICTIMAS:\", num_filas)\n",
    "print(\"Número de columnas del Dataset homicidios VICTIMAS:\", num_columnas)\n",
    "# Vemos el encabezado con pocas filas\n",
    "df_homicidios_V.head()"
   ]
  },
  {
   "cell_type": "code",
   "execution_count": 3,
   "metadata": {},
   "outputs": [
    {
     "name": "stdout",
     "output_type": "stream",
     "text": [
      "<class 'pandas.core.frame.DataFrame'>\n",
      "RangeIndex: 717 entries, 0 to 716\n",
      "Data columns (total 10 columns):\n",
      " #   Column               Non-Null Count  Dtype         \n",
      "---  ------               --------------  -----         \n",
      " 0   ID_hecho             717 non-null    object        \n",
      " 1   FECHA                717 non-null    datetime64[ns]\n",
      " 2   AAAA                 717 non-null    int64         \n",
      " 3   MM                   717 non-null    int64         \n",
      " 4   DD                   717 non-null    int64         \n",
      " 5   ROL                  717 non-null    object        \n",
      " 6   VICTIMA              717 non-null    object        \n",
      " 7   SEXO                 717 non-null    object        \n",
      " 8   EDAD                 717 non-null    object        \n",
      " 9   FECHA_FALLECIMIENTO  717 non-null    object        \n",
      "dtypes: datetime64[ns](1), int64(3), object(6)\n",
      "memory usage: 56.1+ KB\n"
     ]
    }
   ],
   "source": [
    "# Veamos las variables categóricas y las numéricas\n",
    "df_homicidios_V.info()"
   ]
  },
  {
   "cell_type": "markdown",
   "metadata": {},
   "source": [
    "# 4. Limpieza\n",
    "\n",
    "Realizaremos el proceso de limpieza teniendo en cuenta las situaciones más comunes:\n",
    "\n",
    "1. Transformaciones\n",
    "2. Datos faltantes en algunas celdas\n",
    "3. Columnas irrelevantes (que no responden al problema que queremos resolver)\n",
    "4. Registros (filas) repetidos\n",
    "5. Valores extremos (*outliers*) en el caso de las variables numéricas. Se deben analizar en detalle pues no necesariamente la solución es eliminarlos\n",
    "6. Errores tipográficos en el caso de las variables categóricas\n",
    "\n",
    "Al final de este proceso de limpieza deberíamos tener un set de datos **íntegro**, listo para la fase de Análisis Exploratorio."
   ]
  },
  {
   "cell_type": "markdown",
   "metadata": {},
   "source": [
    "## 4.1 Transformaciones\n"
   ]
  },
  {
   "cell_type": "markdown",
   "metadata": {},
   "source": [
    "Conversión del tipo de dato"
   ]
  },
  {
   "cell_type": "code",
   "execution_count": 4,
   "metadata": {},
   "outputs": [],
   "source": [
    "#Cambio la columna a tipo datetime\n",
    "df_homicidios_V[\"FECHA_FALLECIMIENTO\"] = pd.to_datetime(df_homicidios_V[\"FECHA_FALLECIMIENTO\"], format='%Y-%m-%d', errors='coerce')"
   ]
  },
  {
   "cell_type": "code",
   "execution_count": 5,
   "metadata": {},
   "outputs": [],
   "source": [
    "#Una vez que se paso el tipo de dato a datetime que es una fecha y hora completa se utiliza este codigo para que solo se quede en formato fecha sin hora\n",
    "df_homicidios_V[\"FECHA_FALLECIMIENTO\"] = df_homicidios_V[\"FECHA_FALLECIMIENTO\"].dt.date\n",
    "\n",
    "#Luego se reemplazan las fechas en cero con espacios vacios a fin de su manipulación\n",
    "df_homicidios_V[\"FECHA_FALLECIMIENTO\"] = df_homicidios_V [\"FECHA_FALLECIMIENTO\"].replace(pd.NaT,\"\")"
   ]
  },
  {
   "cell_type": "code",
   "execution_count": 6,
   "metadata": {},
   "outputs": [],
   "source": [
    "#Cambio la columna edad a numerico y luego a tipo entero\n",
    "df_homicidios_V[\"EDAD\"] = pd.to_numeric(df_homicidios_V[\"EDAD\"], errors=\"coerce\")\n",
    "df_homicidios_V [\"EDAD\"] = df_homicidios_V[\"EDAD\"].astype(\"Int64\")"
   ]
  },
  {
   "cell_type": "code",
   "execution_count": 7,
   "metadata": {},
   "outputs": [],
   "source": [
    "#Utilizo Numpy para reemplazar por NaN los sin datos o vacios y luego paso a float para que cuando quiera aplicar estadisticas no tenga errores debido a esos datos\n",
    "df_homicidios_V[\"EDAD\"] = df_homicidios_V[\"EDAD\"].replace([\" \",\"SD\"], np.nan)"
   ]
  },
  {
   "cell_type": "code",
   "execution_count": 8,
   "metadata": {},
   "outputs": [],
   "source": [
    "df_homicidios_V[\"EDAD\"] = df_homicidios_V[\"EDAD\"].fillna(0.0)"
   ]
  },
  {
   "cell_type": "code",
   "execution_count": 9,
   "metadata": {},
   "outputs": [
    {
     "data": {
      "text/plain": [
       "<IntegerArray>\n",
       "[19, 70, 30, 18, 29, 22, 16, 59, 65, 34, 41, 50, 38, 21, 52, 36, 20, 54,  0,\n",
       " 56, 24, 78, 79, 26, 57, 37, 58, 23, 60, 42, 53, 51, 40, 87, 76, 75, 35, 80,\n",
       " 43, 45, 67, 27, 55, 49, 81, 25, 33, 46, 83, 39, 28,  7, 48,  4, 82, 32, 17,\n",
       " 47, 61, 10, 95, 73, 84, 66, 85,  1, 15, 13, 77, 44, 31, 62, 74, 71, 11, 86,\n",
       " 69, 72, 12, 63, 92, 68, 91, 64,  5, 88]\n",
       "Length: 86, dtype: Int64"
      ]
     },
     "execution_count": 9,
     "metadata": {},
     "output_type": "execute_result"
    }
   ],
   "source": [
    "#Controlo los datos de la columna\n",
    "df_homicidios_V [\"EDAD\"].unique()"
   ]
  },
  {
   "cell_type": "markdown",
   "metadata": {},
   "source": [
    "## 4.1 Datos faltantes\n",
    "\n",
    "Acá comenzamos a ver que los datos no están completos, pero vemos que no hay regitros nulos, sin embargo se ejecuta la línea que se encarga de eliminar registros de columnas."
   ]
  },
  {
   "cell_type": "code",
   "execution_count": 10,
   "metadata": {},
   "outputs": [
    {
     "name": "stdout",
     "output_type": "stream",
     "text": [
      "<class 'pandas.core.frame.DataFrame'>\n",
      "Int64Index: 717 entries, 0 to 716\n",
      "Data columns (total 10 columns):\n",
      " #   Column               Non-Null Count  Dtype         \n",
      "---  ------               --------------  -----         \n",
      " 0   ID_hecho             717 non-null    object        \n",
      " 1   FECHA                717 non-null    datetime64[ns]\n",
      " 2   AAAA                 717 non-null    int64         \n",
      " 3   MM                   717 non-null    int64         \n",
      " 4   DD                   717 non-null    int64         \n",
      " 5   ROL                  717 non-null    object        \n",
      " 6   VICTIMA              717 non-null    object        \n",
      " 7   SEXO                 717 non-null    object        \n",
      " 8   EDAD                 717 non-null    Int64         \n",
      " 9   FECHA_FALLECIMIENTO  717 non-null    object        \n",
      "dtypes: Int64(1), datetime64[ns](1), int64(3), object(5)\n",
      "memory usage: 62.3+ KB\n"
     ]
    }
   ],
   "source": [
    "df_homicidios_V.dropna(inplace=True)\n",
    "df_homicidios_V.info()"
   ]
  },
  {
   "cell_type": "markdown",
   "metadata": {},
   "source": [
    "conserva la totalidad de registros."
   ]
  },
  {
   "cell_type": "code",
   "execution_count": 11,
   "metadata": {},
   "outputs": [
    {
     "data": {
      "text/html": [
       "<div>\n",
       "<style scoped>\n",
       "    .dataframe tbody tr th:only-of-type {\n",
       "        vertical-align: middle;\n",
       "    }\n",
       "\n",
       "    .dataframe tbody tr th {\n",
       "        vertical-align: top;\n",
       "    }\n",
       "\n",
       "    .dataframe thead th {\n",
       "        text-align: right;\n",
       "    }\n",
       "</style>\n",
       "<table border=\"1\" class=\"dataframe\">\n",
       "  <thead>\n",
       "    <tr style=\"text-align: right;\">\n",
       "      <th></th>\n",
       "      <th>ID_hecho</th>\n",
       "      <th>FECHA</th>\n",
       "      <th>AAAA</th>\n",
       "      <th>MM</th>\n",
       "      <th>DD</th>\n",
       "      <th>ROL</th>\n",
       "      <th>VICTIMA</th>\n",
       "      <th>SEXO</th>\n",
       "      <th>EDAD</th>\n",
       "      <th>FECHA_FALLECIMIENTO</th>\n",
       "    </tr>\n",
       "  </thead>\n",
       "  <tbody>\n",
       "    <tr>\n",
       "      <th>0</th>\n",
       "      <td>2016-0001</td>\n",
       "      <td>2016-01-01</td>\n",
       "      <td>2016</td>\n",
       "      <td>1</td>\n",
       "      <td>1</td>\n",
       "      <td>CONDUCTOR</td>\n",
       "      <td>MOTO</td>\n",
       "      <td>MASCULINO</td>\n",
       "      <td>19</td>\n",
       "      <td>2016-01-01</td>\n",
       "    </tr>\n",
       "    <tr>\n",
       "      <th>1</th>\n",
       "      <td>2016-0002</td>\n",
       "      <td>2016-01-02</td>\n",
       "      <td>2016</td>\n",
       "      <td>1</td>\n",
       "      <td>2</td>\n",
       "      <td>CONDUCTOR</td>\n",
       "      <td>AUTO</td>\n",
       "      <td>MASCULINO</td>\n",
       "      <td>70</td>\n",
       "      <td>2016-01-02</td>\n",
       "    </tr>\n",
       "    <tr>\n",
       "      <th>2</th>\n",
       "      <td>2016-0003</td>\n",
       "      <td>2016-01-03</td>\n",
       "      <td>2016</td>\n",
       "      <td>1</td>\n",
       "      <td>3</td>\n",
       "      <td>CONDUCTOR</td>\n",
       "      <td>MOTO</td>\n",
       "      <td>MASCULINO</td>\n",
       "      <td>30</td>\n",
       "      <td>2016-01-03</td>\n",
       "    </tr>\n",
       "    <tr>\n",
       "      <th>3</th>\n",
       "      <td>2016-0004</td>\n",
       "      <td>2016-01-10</td>\n",
       "      <td>2016</td>\n",
       "      <td>1</td>\n",
       "      <td>10</td>\n",
       "      <td>CONDUCTOR</td>\n",
       "      <td>MOTO</td>\n",
       "      <td>MASCULINO</td>\n",
       "      <td>18</td>\n",
       "      <td></td>\n",
       "    </tr>\n",
       "    <tr>\n",
       "      <th>4</th>\n",
       "      <td>2016-0005</td>\n",
       "      <td>2016-01-21</td>\n",
       "      <td>2016</td>\n",
       "      <td>1</td>\n",
       "      <td>21</td>\n",
       "      <td>CONDUCTOR</td>\n",
       "      <td>MOTO</td>\n",
       "      <td>MASCULINO</td>\n",
       "      <td>29</td>\n",
       "      <td>2016-02-01</td>\n",
       "    </tr>\n",
       "  </tbody>\n",
       "</table>\n",
       "</div>"
      ],
      "text/plain": [
       "    ID_hecho      FECHA  AAAA  MM  DD        ROL VICTIMA       SEXO  EDAD  \\\n",
       "0  2016-0001 2016-01-01  2016   1   1  CONDUCTOR    MOTO  MASCULINO    19   \n",
       "1  2016-0002 2016-01-02  2016   1   2  CONDUCTOR    AUTO  MASCULINO    70   \n",
       "2  2016-0003 2016-01-03  2016   1   3  CONDUCTOR    MOTO  MASCULINO    30   \n",
       "3  2016-0004 2016-01-10  2016   1  10  CONDUCTOR    MOTO  MASCULINO    18   \n",
       "4  2016-0005 2016-01-21  2016   1  21  CONDUCTOR    MOTO  MASCULINO    29   \n",
       "\n",
       "  FECHA_FALLECIMIENTO  \n",
       "0          2016-01-01  \n",
       "1          2016-01-02  \n",
       "2          2016-01-03  \n",
       "3                      \n",
       "4          2016-02-01  "
      ]
     },
     "execution_count": 11,
     "metadata": {},
     "output_type": "execute_result"
    }
   ],
   "source": [
    "df_homicidios_V.head()"
   ]
  },
  {
   "cell_type": "code",
   "execution_count": 12,
   "metadata": {},
   "outputs": [
    {
     "data": {
      "text/plain": [
       "ID_hecho               0\n",
       "FECHA                  0\n",
       "AAAA                   0\n",
       "MM                     0\n",
       "DD                     0\n",
       "ROL                    0\n",
       "VICTIMA                0\n",
       "SEXO                   0\n",
       "EDAD                   0\n",
       "FECHA_FALLECIMIENTO    0\n",
       "dtype: int64"
      ]
     },
     "execution_count": 12,
     "metadata": {},
     "output_type": "execute_result"
    }
   ],
   "source": [
    "df_homicidios_V.isnull().sum()"
   ]
  },
  {
   "cell_type": "markdown",
   "metadata": {},
   "source": [
    "## 4.2 Columnas irrelevantes\n",
    "\n",
    "Una columna irrelevante puede ser:\n",
    "\n",
    "- **Una columna que no contiene información relevante para el problema que queremos resolver**.\n",
    "- **Una columna categórica pero con un sólo nivel**. \n",
    "- **Una columna numérica pero con un sólo valor**.\n",
    "- **Columnas con información redundante**.\n",
    "\n",
    "En este caso todas las columnas pueden resultar relevantes, pero debemos verificar que no haya columnas categóricas con un sólo nivel, o columnas numéricas con un sólo valor:"
   ]
  },
  {
   "cell_type": "code",
   "execution_count": 13,
   "metadata": {},
   "outputs": [
    {
     "name": "stdout",
     "output_type": "stream",
     "text": [
      "Columna ROL: 5 subniveles\n",
      "Columna VICTIMA: 8 subniveles\n",
      "Columna SEXO: 3 subniveles\n",
      "Columna EDAD: 86 subniveles\n",
      "Columna VICTIMA: 8 subniveles\n",
      "Columna FECHA_FALLECIMIENTO: 562 subniveles\n"
     ]
    }
   ],
   "source": [
    "# Conteo de los niveles en las diferentes columnas categóricas\n",
    "cols_cat = ['ROL', 'VICTIMA', 'SEXO','EDAD', 'VICTIMA', 'FECHA_FALLECIMIENTO' ]\n",
    "for col in cols_cat:\n",
    "  print(f'Columna {col}: {df_homicidios_V[col].nunique()} subniveles')"
   ]
  },
  {
   "cell_type": "markdown",
   "metadata": {},
   "source": [
    "Todas las columnas categóricas tienen más de 1 subnivel. No eliminaremos ninguna.\n",
    "\n",
    "Verifiquemos lo que ocurre con las columnas numéricas:"
   ]
  },
  {
   "cell_type": "code",
   "execution_count": 14,
   "metadata": {},
   "outputs": [
    {
     "data": {
      "text/html": [
       "<div>\n",
       "<style scoped>\n",
       "    .dataframe tbody tr th:only-of-type {\n",
       "        vertical-align: middle;\n",
       "    }\n",
       "\n",
       "    .dataframe tbody tr th {\n",
       "        vertical-align: top;\n",
       "    }\n",
       "\n",
       "    .dataframe thead th {\n",
       "        text-align: right;\n",
       "    }\n",
       "</style>\n",
       "<table border=\"1\" class=\"dataframe\">\n",
       "  <thead>\n",
       "    <tr style=\"text-align: right;\">\n",
       "      <th></th>\n",
       "      <th>AAAA</th>\n",
       "      <th>MM</th>\n",
       "      <th>DD</th>\n",
       "      <th>EDAD</th>\n",
       "    </tr>\n",
       "  </thead>\n",
       "  <tbody>\n",
       "    <tr>\n",
       "      <th>count</th>\n",
       "      <td>717.000000</td>\n",
       "      <td>717.000000</td>\n",
       "      <td>717.000000</td>\n",
       "      <td>717.000000</td>\n",
       "    </tr>\n",
       "    <tr>\n",
       "      <th>mean</th>\n",
       "      <td>2018.174338</td>\n",
       "      <td>6.688982</td>\n",
       "      <td>15.960948</td>\n",
       "      <td>39.050209</td>\n",
       "    </tr>\n",
       "    <tr>\n",
       "      <th>std</th>\n",
       "      <td>1.672655</td>\n",
       "      <td>3.575140</td>\n",
       "      <td>8.683358</td>\n",
       "      <td>22.010669</td>\n",
       "    </tr>\n",
       "    <tr>\n",
       "      <th>min</th>\n",
       "      <td>2016.000000</td>\n",
       "      <td>1.000000</td>\n",
       "      <td>1.000000</td>\n",
       "      <td>0.000000</td>\n",
       "    </tr>\n",
       "    <tr>\n",
       "      <th>25%</th>\n",
       "      <td>2017.000000</td>\n",
       "      <td>4.000000</td>\n",
       "      <td>9.000000</td>\n",
       "      <td>24.000000</td>\n",
       "    </tr>\n",
       "    <tr>\n",
       "      <th>50%</th>\n",
       "      <td>2018.000000</td>\n",
       "      <td>7.000000</td>\n",
       "      <td>16.000000</td>\n",
       "      <td>35.000000</td>\n",
       "    </tr>\n",
       "    <tr>\n",
       "      <th>75%</th>\n",
       "      <td>2019.000000</td>\n",
       "      <td>10.000000</td>\n",
       "      <td>23.000000</td>\n",
       "      <td>55.000000</td>\n",
       "    </tr>\n",
       "    <tr>\n",
       "      <th>max</th>\n",
       "      <td>2021.000000</td>\n",
       "      <td>12.000000</td>\n",
       "      <td>31.000000</td>\n",
       "      <td>95.000000</td>\n",
       "    </tr>\n",
       "  </tbody>\n",
       "</table>\n",
       "</div>"
      ],
      "text/plain": [
       "              AAAA          MM          DD        EDAD\n",
       "count   717.000000  717.000000  717.000000  717.000000\n",
       "mean   2018.174338    6.688982   15.960948   39.050209\n",
       "std       1.672655    3.575140    8.683358   22.010669\n",
       "min    2016.000000    1.000000    1.000000    0.000000\n",
       "25%    2017.000000    4.000000    9.000000   24.000000\n",
       "50%    2018.000000    7.000000   16.000000   35.000000\n",
       "75%    2019.000000   10.000000   23.000000   55.000000\n",
       "max    2021.000000   12.000000   31.000000   95.000000"
      ]
     },
     "execution_count": 14,
     "metadata": {},
     "output_type": "execute_result"
    }
   ],
   "source": [
    "df_homicidios_V.describe()"
   ]
  },
  {
   "cell_type": "markdown",
   "metadata": {},
   "source": [
    "Todas las columnas numéricas tienen desviaciones estándar (\"std\") diferentes de cero, lo que indica que no tienen un único valor.\n",
    "\n",
    "Preservaremos todas las columnas numéricas."
   ]
  },
  {
   "cell_type": "markdown",
   "metadata": {},
   "source": [
    "Se crea la columna `Rango etario` basada en la columna `Edad`, para mejorar el análisis de los datos "
   ]
  },
  {
   "cell_type": "code",
   "execution_count": 15,
   "metadata": {},
   "outputs": [
    {
     "data": {
      "text/html": [
       "<div>\n",
       "<style scoped>\n",
       "    .dataframe tbody tr th:only-of-type {\n",
       "        vertical-align: middle;\n",
       "    }\n",
       "\n",
       "    .dataframe tbody tr th {\n",
       "        vertical-align: top;\n",
       "    }\n",
       "\n",
       "    .dataframe thead th {\n",
       "        text-align: right;\n",
       "    }\n",
       "</style>\n",
       "<table border=\"1\" class=\"dataframe\">\n",
       "  <thead>\n",
       "    <tr style=\"text-align: right;\">\n",
       "      <th></th>\n",
       "      <th>ID_hecho</th>\n",
       "      <th>FECHA</th>\n",
       "      <th>AAAA</th>\n",
       "      <th>MM</th>\n",
       "      <th>DD</th>\n",
       "      <th>ROL</th>\n",
       "      <th>VICTIMA</th>\n",
       "      <th>SEXO</th>\n",
       "      <th>EDAD</th>\n",
       "      <th>FECHA_FALLECIMIENTO</th>\n",
       "      <th>Rango_Edad</th>\n",
       "    </tr>\n",
       "  </thead>\n",
       "  <tbody>\n",
       "    <tr>\n",
       "      <th>0</th>\n",
       "      <td>2016-0001</td>\n",
       "      <td>2016-01-01</td>\n",
       "      <td>2016</td>\n",
       "      <td>1</td>\n",
       "      <td>1</td>\n",
       "      <td>CONDUCTOR</td>\n",
       "      <td>MOTO</td>\n",
       "      <td>MASCULINO</td>\n",
       "      <td>19</td>\n",
       "      <td>2016-01-01</td>\n",
       "      <td>Menos de 20</td>\n",
       "    </tr>\n",
       "    <tr>\n",
       "      <th>1</th>\n",
       "      <td>2016-0002</td>\n",
       "      <td>2016-01-02</td>\n",
       "      <td>2016</td>\n",
       "      <td>1</td>\n",
       "      <td>2</td>\n",
       "      <td>CONDUCTOR</td>\n",
       "      <td>AUTO</td>\n",
       "      <td>MASCULINO</td>\n",
       "      <td>70</td>\n",
       "      <td>2016-01-02</td>\n",
       "      <td>Entre 61-80</td>\n",
       "    </tr>\n",
       "    <tr>\n",
       "      <th>2</th>\n",
       "      <td>2016-0003</td>\n",
       "      <td>2016-01-03</td>\n",
       "      <td>2016</td>\n",
       "      <td>1</td>\n",
       "      <td>3</td>\n",
       "      <td>CONDUCTOR</td>\n",
       "      <td>MOTO</td>\n",
       "      <td>MASCULINO</td>\n",
       "      <td>30</td>\n",
       "      <td>2016-01-03</td>\n",
       "      <td>Entre 21- 40</td>\n",
       "    </tr>\n",
       "  </tbody>\n",
       "</table>\n",
       "</div>"
      ],
      "text/plain": [
       "    ID_hecho      FECHA  AAAA  MM  DD        ROL VICTIMA       SEXO  EDAD  \\\n",
       "0  2016-0001 2016-01-01  2016   1   1  CONDUCTOR    MOTO  MASCULINO    19   \n",
       "1  2016-0002 2016-01-02  2016   1   2  CONDUCTOR    AUTO  MASCULINO    70   \n",
       "2  2016-0003 2016-01-03  2016   1   3  CONDUCTOR    MOTO  MASCULINO    30   \n",
       "\n",
       "  FECHA_FALLECIMIENTO     Rango_Edad  \n",
       "0          2016-01-01    Menos de 20  \n",
       "1          2016-01-02    Entre 61-80  \n",
       "2          2016-01-03   Entre 21- 40  "
      ]
     },
     "execution_count": 15,
     "metadata": {},
     "output_type": "execute_result"
    }
   ],
   "source": [
    "# Se utiliza la función `pd.cut()`, que permite agrupar valores numéricos en intervalos o categorías\n",
    "                                                                                                            \n",
    "categorias_edad = df_homicidios_V['EDAD'].value_counts()\n",
    "# Definir los límites de los rangos etarios y las etiquetas\n",
    "bins = [0, 20, 40, 60, 80, 100]\n",
    "labels = ['Menos de 20', ' Entre 21- 40', 'Entre 41-60', 'Entre 61-80', 'Más de 80']\n",
    "\n",
    "# Utilizar pd.cut() para crear la columna de rango etario\n",
    "df_homicidios_V['Rango_Edad'] = pd.cut(df_homicidios_V['EDAD'], bins=bins, labels=labels, right=False)\n",
    "\n",
    "df_homicidios_V.head(3)\n"
   ]
  },
  {
   "cell_type": "markdown",
   "metadata": {},
   "source": [
    "A continuación se estandarizan las mayúsculas y minúsculas del dataset"
   ]
  },
  {
   "cell_type": "code",
   "execution_count": 16,
   "metadata": {},
   "outputs": [
    {
     "data": {
      "text/plain": [
       "Index(['Id', 'Fecha', 'Año', 'Mes', 'Día', 'Rol', 'Víctima', 'Sexo', 'Edad',\n",
       "       'Fecha fallecimiento', 'Rango edad'],\n",
       "      dtype='object')"
      ]
     },
     "execution_count": 16,
     "metadata": {},
     "output_type": "execute_result"
    }
   ],
   "source": [
    "# Se coloca la primera en mayúscula\n",
    "df_homicidios_V.columns = [x.capitalize() for x in df_homicidios_V.columns]\n",
    "# Se reemplazan los guiones por espacios\n",
    "df_homicidios_V.columns = df_homicidios_V.columns.str.replace('_', ' ')\n",
    "# Se renombran algunas columnas\n",
    "df_homicidios_V = df_homicidios_V.rename(columns={'Id hecho': 'Id',\n",
    "                                                      'Aaaa':'Año',\n",
    "                                                      'Mm':'Mes',\n",
    "                                                      'Dd':'Día',\n",
    "                                                      'Victima':'Víctima'})\n",
    "df_homicidios_V.columns"
   ]
  },
  {
   "cell_type": "markdown",
   "metadata": {},
   "source": [
    "## 4.3 Filas repetidas "
   ]
  },
  {
   "cell_type": "markdown",
   "metadata": {},
   "source": [
    "A partir de los datos, se analiza eliminar columnas que se repiten en ambos dataset para realizar luego la unión y trabajar con un conjunto de datos.\n",
    "Se proceden a eliminar del dataset `df_homicidios_V` las columnas `Fecha`, `Año`, `Mes`, `Día` y `Victima` que contienen la misma información que se encuentra en `df_homicidios_H`. "
   ]
  },
  {
   "cell_type": "code",
   "execution_count": 17,
   "metadata": {},
   "outputs": [],
   "source": [
    "df_homicidios_H=pd.read_csv('homicidios_H.csv', index_col=False)"
   ]
  },
  {
   "cell_type": "code",
   "execution_count": 18,
   "metadata": {},
   "outputs": [
    {
     "data": {
      "text/html": [
       "<div>\n",
       "<style scoped>\n",
       "    .dataframe tbody tr th:only-of-type {\n",
       "        vertical-align: middle;\n",
       "    }\n",
       "\n",
       "    .dataframe tbody tr th {\n",
       "        vertical-align: top;\n",
       "    }\n",
       "\n",
       "    .dataframe thead th {\n",
       "        text-align: right;\n",
       "    }\n",
       "</style>\n",
       "<table border=\"1\" class=\"dataframe\">\n",
       "  <thead>\n",
       "    <tr style=\"text-align: right;\">\n",
       "      <th></th>\n",
       "      <th>Id</th>\n",
       "      <th>Num víctimas</th>\n",
       "      <th>Fecha</th>\n",
       "      <th>Año</th>\n",
       "      <th>Mes</th>\n",
       "      <th>Día</th>\n",
       "      <th>Hora completa</th>\n",
       "      <th>Hora</th>\n",
       "      <th>Lugar del hecho</th>\n",
       "      <th>Tipo de calle</th>\n",
       "      <th>...</th>\n",
       "      <th>Xy (caba)</th>\n",
       "      <th>Pos x</th>\n",
       "      <th>Pos y</th>\n",
       "      <th>Participantes</th>\n",
       "      <th>Victima</th>\n",
       "      <th>Acusado</th>\n",
       "      <th>Coordenada x</th>\n",
       "      <th>Coordenada y</th>\n",
       "      <th>Barrios</th>\n",
       "      <th>Día semana</th>\n",
       "    </tr>\n",
       "  </thead>\n",
       "  <tbody>\n",
       "    <tr>\n",
       "      <th>418</th>\n",
       "      <td>2019-0012</td>\n",
       "      <td>1</td>\n",
       "      <td>2019-02-17</td>\n",
       "      <td>2019</td>\n",
       "      <td>2</td>\n",
       "      <td>17</td>\n",
       "      <td>03:16:00</td>\n",
       "      <td>3.0</td>\n",
       "      <td>CASTAÑARES AV. Y GORDILLO, TIMOTEO</td>\n",
       "      <td>AVENIDA</td>\n",
       "      <td>...</td>\n",
       "      <td>Point (98072.98959434 94742.80804806)</td>\n",
       "      <td>-58.484327</td>\n",
       "      <td>-34.676658</td>\n",
       "      <td>MOTO-AUTO</td>\n",
       "      <td>MOTO</td>\n",
       "      <td>AUTO</td>\n",
       "      <td>98072.989594</td>\n",
       "      <td>94742.808048</td>\n",
       "      <td>VILLA LUGANO - VILLA RIACHUELO - VILLA SOLDATI</td>\n",
       "      <td>Domingo</td>\n",
       "    </tr>\n",
       "  </tbody>\n",
       "</table>\n",
       "<p>1 rows × 24 columns</p>\n",
       "</div>"
      ],
      "text/plain": [
       "            Id  Num víctimas       Fecha   Año  Mes  Día Hora completa  Hora  \\\n",
       "418  2019-0012             1  2019-02-17  2019    2   17      03:16:00   3.0   \n",
       "\n",
       "                        Lugar del hecho Tipo de calle  ...  \\\n",
       "418  CASTAÑARES AV. Y GORDILLO, TIMOTEO       AVENIDA  ...   \n",
       "\n",
       "                                 Xy (caba)      Pos x      Pos y  \\\n",
       "418  Point (98072.98959434 94742.80804806) -58.484327 -34.676658   \n",
       "\n",
       "    Participantes Victima  Acusado  Coordenada x  Coordenada y  \\\n",
       "418     MOTO-AUTO    MOTO     AUTO  98072.989594  94742.808048   \n",
       "\n",
       "                                            Barrios Día semana  \n",
       "418  VILLA LUGANO - VILLA RIACHUELO - VILLA SOLDATI    Domingo  \n",
       "\n",
       "[1 rows x 24 columns]"
      ]
     },
     "execution_count": 18,
     "metadata": {},
     "output_type": "execute_result"
    }
   ],
   "source": [
    "#Se busca un registro para comparar con el mismo registro en el otro dataset\n",
    "df_homicidios_H[df_homicidios_H[\"Id\"]==\"2019-0012\"]"
   ]
  },
  {
   "cell_type": "code",
   "execution_count": 19,
   "metadata": {},
   "outputs": [
    {
     "data": {
      "text/html": [
       "<div>\n",
       "<style scoped>\n",
       "    .dataframe tbody tr th:only-of-type {\n",
       "        vertical-align: middle;\n",
       "    }\n",
       "\n",
       "    .dataframe tbody tr th {\n",
       "        vertical-align: top;\n",
       "    }\n",
       "\n",
       "    .dataframe thead th {\n",
       "        text-align: right;\n",
       "    }\n",
       "</style>\n",
       "<table border=\"1\" class=\"dataframe\">\n",
       "  <thead>\n",
       "    <tr style=\"text-align: right;\">\n",
       "      <th></th>\n",
       "      <th>Id</th>\n",
       "      <th>Fecha</th>\n",
       "      <th>Año</th>\n",
       "      <th>Mes</th>\n",
       "      <th>Día</th>\n",
       "      <th>Rol</th>\n",
       "      <th>Víctima</th>\n",
       "      <th>Sexo</th>\n",
       "      <th>Edad</th>\n",
       "      <th>Fecha fallecimiento</th>\n",
       "      <th>Rango edad</th>\n",
       "    </tr>\n",
       "  </thead>\n",
       "  <tbody>\n",
       "    <tr>\n",
       "      <th>447</th>\n",
       "      <td>2019-0012</td>\n",
       "      <td>2019-02-17</td>\n",
       "      <td>2019</td>\n",
       "      <td>2</td>\n",
       "      <td>17</td>\n",
       "      <td>CONDUCTOR</td>\n",
       "      <td>MOTO</td>\n",
       "      <td>MASCULINO</td>\n",
       "      <td>31</td>\n",
       "      <td>2019-02-20</td>\n",
       "      <td>Entre 21- 40</td>\n",
       "    </tr>\n",
       "  </tbody>\n",
       "</table>\n",
       "</div>"
      ],
      "text/plain": [
       "            Id      Fecha   Año  Mes  Día        Rol Víctima       Sexo  Edad  \\\n",
       "447  2019-0012 2019-02-17  2019    2   17  CONDUCTOR    MOTO  MASCULINO    31   \n",
       "\n",
       "    Fecha fallecimiento     Rango edad  \n",
       "447          2019-02-20   Entre 21- 40  "
      ]
     },
     "execution_count": 19,
     "metadata": {},
     "output_type": "execute_result"
    }
   ],
   "source": [
    "#Se busca un registro para comparar con el mismo registro en el otro dataset\n",
    "df_homicidios_V[df_homicidios_V[\"Id\"]==\"2019-0012\"]"
   ]
  },
  {
   "cell_type": "code",
   "execution_count": 20,
   "metadata": {},
   "outputs": [
    {
     "name": "stdout",
     "output_type": "stream",
     "text": [
      "Tamaño del set antes de eliminar las filas repetidas: (717, 11)\n",
      "Tamaño del set después de eliminar las filas repetidas: (717, 11)\n"
     ]
    }
   ],
   "source": [
    "print(f'Tamaño del set antes de eliminar las filas repetidas: {df_homicidios_V.shape}')\n",
    "df_homicidios_V.drop_duplicates(inplace=True)\n",
    "print(f'Tamaño del set después de eliminar las filas repetidas: {df_homicidios_V.shape}')"
   ]
  },
  {
   "cell_type": "markdown",
   "metadata": {},
   "source": [
    "## 4.4 *Outliers* en las variables numéricas \n",
    "\n",
    "No siempre se deben eliminar los *outliers* porque dependiendo de la variable numérica analizada estos pueden contener información importante.\n",
    "\n",
    "Creemos gráficas tipo \"boxplot\" de las columnas numéricas:"
   ]
  },
  {
   "cell_type": "code",
   "execution_count": 21,
   "metadata": {},
   "outputs": [
    {
     "name": "stdout",
     "output_type": "stream",
     "text": [
      "<class 'pandas.core.frame.DataFrame'>\n",
      "Int64Index: 717 entries, 0 to 716\n",
      "Data columns (total 11 columns):\n",
      " #   Column               Non-Null Count  Dtype         \n",
      "---  ------               --------------  -----         \n",
      " 0   Id                   717 non-null    object        \n",
      " 1   Fecha                717 non-null    datetime64[ns]\n",
      " 2   Año                  717 non-null    int64         \n",
      " 3   Mes                  717 non-null    int64         \n",
      " 4   Día                  717 non-null    int64         \n",
      " 5   Rol                  717 non-null    object        \n",
      " 6   Víctima              717 non-null    object        \n",
      " 7   Sexo                 717 non-null    object        \n",
      " 8   Edad                 717 non-null    Int64         \n",
      " 9   Fecha fallecimiento  717 non-null    object        \n",
      " 10  Rango edad           717 non-null    category      \n",
      "dtypes: Int64(1), category(1), datetime64[ns](1), int64(3), object(5)\n",
      "memory usage: 63.2+ KB\n"
     ]
    }
   ],
   "source": [
    "df_homicidios_V.info()"
   ]
  },
  {
   "cell_type": "code",
   "execution_count": 22,
   "metadata": {},
   "outputs": [
    {
     "data": {
      "image/png": "[encoded data removed]",
      "text/plain": [
       "<Figure size 800x1200 with 4 Axes>"
      ]
     },
     "metadata": {},
     "output_type": "display_data"
    }
   ],
   "source": [
    "# Generar gráficas individuales pues las variables numéricas\n",
    "# están en rangos diferentes\n",
    "cols_num = ['Año', 'Mes', 'Día','Edad']\n",
    "\n",
    "fig, ax = plt.subplots(nrows=4, ncols=1, figsize=(8,12))\n",
    "fig.subplots_adjust(hspace=0.5)\n",
    "\n",
    "for i, col in enumerate(cols_num):\n",
    "    sns.boxplot(x=col, data=df_homicidios_V, ax=ax[i])\n",
    "    ax[i].set_title(col)"
   ]
  },
  {
   "cell_type": "markdown",
   "metadata": {},
   "source": [
    "# 4.5 Errores tipográficos en variables categóricas\n",
    "En una variable categórica pueden aparecer sub-niveles como \"unknown\" y \"UNK\" que para nosotros son equivalentes pero que para nuestro programa parecerían diferentes.\n",
    "\n",
    "Se deben unificar estos sub-niveles"
   ]
  },
  {
   "cell_type": "code",
   "execution_count": 23,
   "metadata": {},
   "outputs": [
    {
     "data": {
      "image/png": "[encoded data removed]",
      "text/plain": [
       "<Figure size 1000x1000 with 3 Axes>"
      ]
     },
     "metadata": {},
     "output_type": "display_data"
    }
   ],
   "source": [
    "# Graficar los subniveles de cada variable categórica\n",
    "cols_cat = [ 'Rol', 'Víctima', 'Sexo' ]\n",
    "\n",
    "fig, ax = plt.subplots(nrows=3, ncols=1, figsize=(10,10))\n",
    "fig.subplots_adjust(hspace=1)\n",
    "\n",
    "for i, col in enumerate(cols_cat):\n",
    "  sns.countplot(x=col, data=df_homicidios_V, ax=ax[i])\n",
    "  ax[i].set_title(col)\n",
    "  ax[i].set_xticklabels(ax[i].get_xticklabels(),rotation=30)"
   ]
  },
  {
   "cell_type": "markdown",
   "metadata": {},
   "source": [
    "# Union de los dos dataset de homicidio"
   ]
  },
  {
   "cell_type": "code",
   "execution_count": 24,
   "metadata": {},
   "outputs": [
    {
     "data": {
      "text/plain": [
       "Index(['Id', 'Rol', 'Sexo', 'Edad', 'Fecha fallecimiento', 'Rango edad'], dtype='object')"
      ]
     },
     "execution_count": 24,
     "metadata": {},
     "output_type": "execute_result"
    }
   ],
   "source": [
    "# Se eliminan las columnas repetidas\n",
    "df_homicidios_V = df_homicidios_V.drop(['Fecha', 'Año', 'Mes', 'Día', 'Víctima'], axis=1)\n",
    "df_homicidios_V.columns"
   ]
  },
  {
   "cell_type": "code",
   "execution_count": 25,
   "metadata": {},
   "outputs": [
    {
     "data": {
      "text/plain": [
       "Index(['Id', 'Rol', 'Sexo', 'Edad', 'Fecha fallecimiento', 'Rango edad',\n",
       "       'Num víctimas', 'Fecha', 'Año', 'Mes', 'Día', 'Hora completa', 'Hora',\n",
       "       'Lugar del hecho', 'Tipo de calle', 'Calle', 'Cruce',\n",
       "       'Dirección normalizada', 'Comuna', 'Xy (caba)', 'Pos x', 'Pos y',\n",
       "       'Participantes', 'Victima', 'Acusado', 'Coordenada x', 'Coordenada y',\n",
       "       'Barrios', 'Día semana'],\n",
       "      dtype='object')"
      ]
     },
     "execution_count": 25,
     "metadata": {},
     "output_type": "execute_result"
    }
   ],
   "source": [
    "df_homicidios_M= df_homicidios_V.merge(df_homicidios_H, on=\"Id\", how=\"left\")\n",
    "df_homicidios_M.columns"
   ]
  },
  {
   "cell_type": "code",
   "execution_count": 26,
   "metadata": {},
   "outputs": [
    {
     "name": "stdout",
     "output_type": "stream",
     "text": [
      "<class 'pandas.core.frame.DataFrame'>\n",
      "Int64Index: 717 entries, 0 to 716\n",
      "Data columns (total 29 columns):\n",
      " #   Column                 Non-Null Count  Dtype   \n",
      "---  ------                 --------------  -----   \n",
      " 0   Id                     717 non-null    object  \n",
      " 1   Rol                    717 non-null    object  \n",
      " 2   Sexo                   717 non-null    object  \n",
      " 3   Edad                   717 non-null    Int64   \n",
      " 4   Fecha fallecimiento    717 non-null    object  \n",
      " 5   Rango edad             717 non-null    category\n",
      " 6   Num víctimas           702 non-null    float64 \n",
      " 7   Fecha                  702 non-null    object  \n",
      " 8   Año                    702 non-null    float64 \n",
      " 9   Mes                    702 non-null    float64 \n",
      " 10  Día                    702 non-null    float64 \n",
      " 11  Hora completa          702 non-null    object  \n",
      " 12  Hora                   701 non-null    float64 \n",
      " 13  Lugar del hecho        702 non-null    object  \n",
      " 14  Tipo de calle          702 non-null    object  \n",
      " 15  Calle                  702 non-null    object  \n",
      " 16  Cruce                  540 non-null    object  \n",
      " 17  Dirección normalizada  702 non-null    object  \n",
      " 18  Comuna                 702 non-null    object  \n",
      " 19  Xy (caba)              702 non-null    object  \n",
      " 20  Pos x                  702 non-null    float64 \n",
      " 21  Pos y                  702 non-null    float64 \n",
      " 22  Participantes          702 non-null    object  \n",
      " 23  Victima                702 non-null    object  \n",
      " 24  Acusado                702 non-null    object  \n",
      " 25  Coordenada x           702 non-null    float64 \n",
      " 26  Coordenada y           702 non-null    float64 \n",
      " 27  Barrios                702 non-null    object  \n",
      " 28  Día semana             702 non-null    object  \n",
      "dtypes: Int64(1), category(1), float64(9), object(18)\n",
      "memory usage: 164.1+ KB\n"
     ]
    }
   ],
   "source": [
    "df_homicidios_M.info()"
   ]
  },
  {
   "cell_type": "markdown",
   "metadata": {},
   "source": [
    "¡Y listo, ya hemos realizado la limpieza de nuestro set de datos!\n",
    "\n",
    "Hemos unido los DataSet Hechos y Victimas de Homicidios\n",
    "\n",
    "El set de datos ya está listo para el Análisis Exploratorio."
   ]
  },
  {
   "cell_type": "code",
   "execution_count": 27,
   "metadata": {},
   "outputs": [],
   "source": [
    "# Guardar el DataFrame como un archivo CSV sin incluir el índice\n",
    "df_homicidios_M.to_csv('data/homicidios_T_EDA.csv', index=False)"
   ]
  }
 ],
 "metadata": {
  "kernelspec": {
   "display_name": "Python 3",
   "language": "python",
   "name": "python3"
  },
  "language_info": {
   "codemirror_mode": {
    "name": "ipython",
    "version": 3
   },
   "file_extension": ".py",
   "mimetype": "text/x-python",
   "name": "python",
   "nbconvert_exporter": "python",
   "pygments_lexer": "ipython3",
   "version": "3.7.8"
  }
 },
 "nbformat": 4,
 "nbformat_minor": 2
}
