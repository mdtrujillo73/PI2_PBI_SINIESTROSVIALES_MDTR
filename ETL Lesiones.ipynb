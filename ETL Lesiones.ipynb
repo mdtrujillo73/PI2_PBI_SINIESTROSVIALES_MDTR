{
 "cells": [
  {
   "cell_type": "markdown",
   "metadata": {},
   "source": [
    "# </br>LIMPIEZA DE DATOS LESIONES-HECHOS"
   ]
  },
  {
   "cell_type": "markdown",
   "metadata": {},
   "source": [
    "# 1. El problema del proyecto\n",
    "\n",
    "El Observatorio de Movilidad y Seguridad Vial (OMSV), donde trabajo, como centro de estudios bajo la Secretaría de Transporte del Gobierno de la Ciudad Autónoma de Buenos Aires, me ha encargado la elaboración de un proyecto de análisis de datos. El objetivo es generar información que permita a las autoridades locales tomar medidas para reducir la cantidad de víctimas fatales en accidentes de tránsito. Para ello, me han proporcionado un conjunto de datos en formato xlsx que detalla los homicidios en siniestros viales ocurridos en la Ciudad de Buenos Aires entre 2016 y 2021. Este conjunto de datos, ya sea de homicidios o lesiones consta de dos hojas, \"hechos\" y \"víctimas\", y también incluye dos hojas adicionales con diccionarios de datos para facilitar la comprensión de la información proporcionada."
   ]
  },
  {
   "cell_type": "markdown",
   "metadata": {},
   "source": [
    "# 2. los Set de datos\n",
    "\n",
    "La información recolectada por el OMSV se encuentran el archivo `lesiones.xlsx`\n",
    "\n",
    "* `lesiones.xlsx`- Hoja HECHOS: Cuenta con  27 Columnas y 23785 filas \n",
    "Cada registro contiene 27 características o columnas.  Las columnas son:\n",
    "1. \"id\":\tidentificador unico del siniestro\n",
    "2. \"n_victimas\":\tcantidad de víctimas\n",
    "3. \"aaaa\":\taño\n",
    "4. \"mm\":\tmes\n",
    "5. \"dd\":\tdía del mes\n",
    "6. \"fecha\":\tfecha en formato dd/mm/aaaa\n",
    "7. \"hora\":\thora del siniestro\n",
    "8. \"franja_hora\":\tfranja horaria entera\n",
    "9. \"direccion_normalizada\":\tdireccion en formato normalizado USIG\n",
    "10. \"comuna\":\tcomuna de CABA con jurisdicción según la ubicación\n",
    "11. \"tipo_calle\":\tTipo de arteria. En el caso de intersecciones a nivel se clasifica según la de mayor jerarquía\n",
    "12. \"otra_direccion\":\tdireccion en formato alternativo\n",
    "13. \"calle\":\tnombre de la arteria donde se produjo el hecho\n",
    "14. \"altura\":\taltura de la arteria donde se produjo el hecho\n",
    "15. \"cruce\":\tcruce en caso de que sea una encrucijada\n",
    "16. \"geocodificacion_CABA\":\tgeocodificación plana\n",
    "17. \"longitud\":\tlongitud con separador punto. WGS84\n",
    "18. \"latutid\":\tlatitud con separador punto. WGS84\n",
    "19. \"victima\":\tVehículo que ocupaba quien haya fallecido a se haya lastimado a raíz del hecho, o bien peatón/a\n",
    "20. \"acusado\":\tVehículo que ocupaba quien resultó acusado/a del hecho, sin implicar culpabilidad legal\n",
    "21. \"participantes\":\tconjunción de víctima y acusado\n",
    "22. \"moto\":\tparticipación de algún motovehículo, sea víctima u acusado\n",
    "23. \"auto\":\tparticipación de algún automovil, sea víctima u acusado\n",
    "24. \"transporte_publico\":\tparticipación de algún vehículo de transporte público de pasajeros, sea víctima u acusado\n",
    "25. \"camion\":\tparticipación de algún vehículo de cargas camión, sea víctima u acusado\n",
    "26. \"ciclista\":\tparticipación de algún ciclista, sea víctima u acusado\n",
    "27. \"gravedad\":\tNivel máximo conocido de gravedad de la lesión de la(s) víctima(s) del siniestro en función del tiempo de hospitalización"
   ]
  },
  {
   "cell_type": "markdown",
   "metadata": {},
   "source": [
    "# 3. Una primera mirada al dataset"
   ]
  },
  {
   "cell_type": "code",
   "execution_count": 132,
   "metadata": {},
   "outputs": [],
   "source": [
    "# Importar librerías\n",
    "import pandas as pd\n",
    "import matplotlib.pyplot as plt\n",
    "import seaborn as sns"
   ]
  },
  {
   "cell_type": "markdown",
   "metadata": {},
   "source": [
    "Revisando la hoja: HECHOS en el archivo de lesiones.xls"
   ]
  },
  {
   "cell_type": "code",
   "execution_count": 133,
   "metadata": {},
   "outputs": [
    {
     "name": "stdout",
     "output_type": "stream",
     "text": [
      "Número de filas del Dataset homicidios HECHOS: 23785\n",
      "Número de columnas del Dataset homicidios HECHOS: 27\n"
     ]
    },
    {
     "data": {
      "text/html": [
       "<div>\n",
       "<style scoped>\n",
       "    .dataframe tbody tr th:only-of-type {\n",
       "        vertical-align: middle;\n",
       "    }\n",
       "\n",
       "    .dataframe tbody tr th {\n",
       "        vertical-align: top;\n",
       "    }\n",
       "\n",
       "    .dataframe thead th {\n",
       "        text-align: right;\n",
       "    }\n",
       "</style>\n",
       "<table border=\"1\" class=\"dataframe\">\n",
       "  <thead>\n",
       "    <tr style=\"text-align: right;\">\n",
       "      <th></th>\n",
       "      <th>id</th>\n",
       "      <th>n_victimas</th>\n",
       "      <th>aaaa</th>\n",
       "      <th>mm</th>\n",
       "      <th>dd</th>\n",
       "      <th>fecha</th>\n",
       "      <th>hora</th>\n",
       "      <th>franja_hora</th>\n",
       "      <th>direccion_normalizada</th>\n",
       "      <th>comuna</th>\n",
       "      <th>...</th>\n",
       "      <th>latutid</th>\n",
       "      <th>victima</th>\n",
       "      <th>acusado</th>\n",
       "      <th>participantes</th>\n",
       "      <th>moto</th>\n",
       "      <th>auto</th>\n",
       "      <th>transporte_publico</th>\n",
       "      <th>camion</th>\n",
       "      <th>ciclista</th>\n",
       "      <th>gravedad</th>\n",
       "    </tr>\n",
       "  </thead>\n",
       "  <tbody>\n",
       "    <tr>\n",
       "      <th>0</th>\n",
       "      <td>LC-2019-0000179</td>\n",
       "      <td>1</td>\n",
       "      <td>2019</td>\n",
       "      <td>1</td>\n",
       "      <td>1</td>\n",
       "      <td>2019-01-01 00:00:00</td>\n",
       "      <td>09:00:00</td>\n",
       "      <td>9</td>\n",
       "      <td>SD</td>\n",
       "      <td>14</td>\n",
       "      <td>...</td>\n",
       "      <td>-34.559658</td>\n",
       "      <td>CICLISTA</td>\n",
       "      <td>SD</td>\n",
       "      <td>CICLISTA-SD</td>\n",
       "      <td>SD</td>\n",
       "      <td>SD</td>\n",
       "      <td>SD</td>\n",
       "      <td>SD</td>\n",
       "      <td>x</td>\n",
       "      <td>SD</td>\n",
       "    </tr>\n",
       "    <tr>\n",
       "      <th>1</th>\n",
       "      <td>LC-2019-0000053</td>\n",
       "      <td>1</td>\n",
       "      <td>2019</td>\n",
       "      <td>1</td>\n",
       "      <td>1</td>\n",
       "      <td>2019-01-01 00:00:00</td>\n",
       "      <td>01:55:00</td>\n",
       "      <td>1</td>\n",
       "      <td>SD</td>\n",
       "      <td>8</td>\n",
       "      <td>...</td>\n",
       "      <td>-34.669125</td>\n",
       "      <td>AUTO</td>\n",
       "      <td>SD</td>\n",
       "      <td>AUTO-SD</td>\n",
       "      <td>SD</td>\n",
       "      <td>x</td>\n",
       "      <td>SD</td>\n",
       "      <td>SD</td>\n",
       "      <td>SD</td>\n",
       "      <td>SD</td>\n",
       "    </tr>\n",
       "    <tr>\n",
       "      <th>2</th>\n",
       "      <td>LC-2019-0000063</td>\n",
       "      <td>1</td>\n",
       "      <td>2019</td>\n",
       "      <td>1</td>\n",
       "      <td>1</td>\n",
       "      <td>2019-01-01 00:00:00</td>\n",
       "      <td>02:00:00</td>\n",
       "      <td>2</td>\n",
       "      <td>SD</td>\n",
       "      <td>8</td>\n",
       "      <td>...</td>\n",
       "      <td>-34.677556</td>\n",
       "      <td>SD</td>\n",
       "      <td>SD</td>\n",
       "      <td>SD-SD</td>\n",
       "      <td>SD</td>\n",
       "      <td>SD</td>\n",
       "      <td>SD</td>\n",
       "      <td>SD</td>\n",
       "      <td>SD</td>\n",
       "      <td>SD</td>\n",
       "    </tr>\n",
       "    <tr>\n",
       "      <th>3</th>\n",
       "      <td>LC-2019-0000079</td>\n",
       "      <td>1</td>\n",
       "      <td>2019</td>\n",
       "      <td>1</td>\n",
       "      <td>1</td>\n",
       "      <td>2019-01-01 00:00:00</td>\n",
       "      <td>02:30:00</td>\n",
       "      <td>2</td>\n",
       "      <td>SD</td>\n",
       "      <td>7</td>\n",
       "      <td>...</td>\n",
       "      <td>-34.647349</td>\n",
       "      <td>PEATON</td>\n",
       "      <td>SD</td>\n",
       "      <td>PEATON-SD</td>\n",
       "      <td>x</td>\n",
       "      <td>SD</td>\n",
       "      <td>SD</td>\n",
       "      <td>SD</td>\n",
       "      <td>SD</td>\n",
       "      <td>SD</td>\n",
       "    </tr>\n",
       "    <tr>\n",
       "      <th>4</th>\n",
       "      <td>LC-2019-0000082</td>\n",
       "      <td>4</td>\n",
       "      <td>2019</td>\n",
       "      <td>1</td>\n",
       "      <td>1</td>\n",
       "      <td>2019-01-01 00:00:00</td>\n",
       "      <td>04:30:00</td>\n",
       "      <td>4</td>\n",
       "      <td>SD</td>\n",
       "      <td>3</td>\n",
       "      <td>...</td>\n",
       "      <td>-34.604579</td>\n",
       "      <td>AUTO</td>\n",
       "      <td>SD</td>\n",
       "      <td>AUTO-SD</td>\n",
       "      <td>SD</td>\n",
       "      <td>SD</td>\n",
       "      <td>x</td>\n",
       "      <td>SD</td>\n",
       "      <td>SD</td>\n",
       "      <td>SD</td>\n",
       "    </tr>\n",
       "  </tbody>\n",
       "</table>\n",
       "<p>5 rows × 27 columns</p>\n",
       "</div>"
      ],
      "text/plain": [
       "                id  n_victimas  aaaa  mm  dd                fecha      hora  \\\n",
       "0  LC-2019-0000179           1  2019   1   1  2019-01-01 00:00:00  09:00:00   \n",
       "1  LC-2019-0000053           1  2019   1   1  2019-01-01 00:00:00  01:55:00   \n",
       "2  LC-2019-0000063           1  2019   1   1  2019-01-01 00:00:00  02:00:00   \n",
       "3  LC-2019-0000079           1  2019   1   1  2019-01-01 00:00:00  02:30:00   \n",
       "4  LC-2019-0000082           4  2019   1   1  2019-01-01 00:00:00  04:30:00   \n",
       "\n",
       "  franja_hora direccion_normalizada comuna  ...     latutid   victima acusado  \\\n",
       "0           9                    SD     14  ...  -34.559658  CICLISTA      SD   \n",
       "1           1                    SD      8  ...  -34.669125      AUTO      SD   \n",
       "2           2                    SD      8  ...  -34.677556        SD      SD   \n",
       "3           2                    SD      7  ...  -34.647349    PEATON      SD   \n",
       "4           4                    SD      3  ...  -34.604579      AUTO      SD   \n",
       "\n",
       "   participantes moto auto transporte_publico camion ciclista gravedad  \n",
       "0    CICLISTA-SD   SD   SD                 SD     SD        x       SD  \n",
       "1        AUTO-SD   SD    x                 SD     SD       SD       SD  \n",
       "2          SD-SD   SD   SD                 SD     SD       SD       SD  \n",
       "3      PEATON-SD    x   SD                 SD     SD       SD       SD  \n",
       "4        AUTO-SD   SD   SD                  x     SD       SD       SD  \n",
       "\n",
       "[5 rows x 27 columns]"
      ]
     },
     "execution_count": 133,
     "metadata": {},
     "output_type": "execute_result"
    }
   ],
   "source": [
    "# Nombre del archivo Excel\n",
    "archivo_excel = 'lesiones.xlsx'\n",
    "\n",
    "# Leer el archivo Excel y cargarlo en un DataFrame\n",
    "df_lesiones_H = pd.read_excel(archivo_excel, sheet_name='HECHOS')\n",
    "\n",
    "# Suponiendo que 'df' es tu DataFrame\n",
    "dimensiones = df_lesiones_H.shape\n",
    "\n",
    "# Obtener el número de filas y columnas\n",
    "num_filas = dimensiones[0]\n",
    "num_columnas = dimensiones[1]\n",
    "\n",
    "# Imprimir las dimensiones\n",
    "print(\"Número de filas del Dataset homicidios HECHOS:\", num_filas)\n",
    "print(\"Número de columnas del Dataset homicidios HECHOS:\", num_columnas)\n",
    "# Vemos el encabezado con pocas filas\n",
    "df_lesiones_H.head()"
   ]
  },
  {
   "cell_type": "markdown",
   "metadata": {},
   "source": [
    "# 4. Limpieza\n",
    "\n",
    "Realizaremos el proceso de limpieza teniendo en cuenta las situaciones más comunes:\n",
    "\n",
    "1. Datos faltantes en algunas celdas\n",
    "2. Columnas irrelevantes (que no responden al problema que queremos resolver)\n",
    "3. Registros (filas) repetidos\n",
    "4. Valores extremos (*outliers*) en el caso de las variables numéricas. Se deben analizar en detalle pues no necesariamente la solución es eliminarlos\n",
    "5. Errores tipográficos en el caso de las variables categóricas\n",
    "\n",
    "Al final de este proceso de limpieza deberíamos tener un set de datos **íntegro**, listo para la fase de Análisis Exploratorio."
   ]
  },
  {
   "cell_type": "markdown",
   "metadata": {},
   "source": [
    "## 4.1 Datos faltantes\n",
    "\n",
    "Acá comenzamos a ver que los datos no están completos, pero vemos que no hay regitros nulos, sin embargo se ejecuta la línea que se encarga de eliminar registros de columnas."
   ]
  },
  {
   "cell_type": "code",
   "execution_count": 134,
   "metadata": {},
   "outputs": [
    {
     "name": "stdout",
     "output_type": "stream",
     "text": [
      "<class 'pandas.core.frame.DataFrame'>\n",
      "RangeIndex: 23785 entries, 0 to 23784\n",
      "Data columns (total 27 columns):\n",
      " #   Column                 Non-Null Count  Dtype  \n",
      "---  ------                 --------------  -----  \n",
      " 0   id                     23785 non-null  object \n",
      " 1   n_victimas             23785 non-null  int64  \n",
      " 2   aaaa                   23785 non-null  int64  \n",
      " 3   mm                     23785 non-null  int64  \n",
      " 4   dd                     23785 non-null  int64  \n",
      " 5   fecha                  23785 non-null  object \n",
      " 6   hora                   23785 non-null  object \n",
      " 7   franja_hora            23780 non-null  object \n",
      " 8   direccion_normalizada  23732 non-null  object \n",
      " 9   comuna                 23616 non-null  object \n",
      " 10  tipo_calle             23785 non-null  object \n",
      " 11  otra_direccion         23785 non-null  object \n",
      " 12  calle                  12867 non-null  object \n",
      " 13  altura                 12771 non-null  float64\n",
      " 14  cruce                  9407 non-null   object \n",
      " 15  geocodificacion_CABA   23746 non-null  object \n",
      " 16  longitud               23523 non-null  object \n",
      " 17  latutid                23523 non-null  object \n",
      " 18  victima                23785 non-null  object \n",
      " 19  acusado                23785 non-null  object \n",
      " 20  participantes          23785 non-null  object \n",
      " 21  moto                   23692 non-null  object \n",
      " 22  auto                   23692 non-null  object \n",
      " 23  transporte_publico     23692 non-null  object \n",
      " 24  camion                 23692 non-null  object \n",
      " 25  ciclista               23692 non-null  object \n",
      " 26  gravedad               23785 non-null  object \n",
      "dtypes: float64(1), int64(4), object(22)\n",
      "memory usage: 4.9+ MB\n"
     ]
    }
   ],
   "source": [
    "df_lesiones_H.info()"
   ]
  },
  {
   "cell_type": "markdown",
   "metadata": {},
   "source": [
    "Veo que la columna 'otra_direccion' tiene información valiosa para complementar las columnas 'calle' y 'cruce'. Primero debemos evaluar ciertas caracteristicas\n",
    "1) Si no tiene el caracter ' y ', se reemplaza por una coma y se puede eliminar la coma siguiente\n",
    "2) Si no hay ' y ' podemos dejar la columna como viene por defecto del repositorio de datos\n"
   ]
  },
  {
   "cell_type": "code",
   "execution_count": 135,
   "metadata": {},
   "outputs": [],
   "source": [
    "# Función para procesar cada registro de 'otra_direccion'\n",
    "def procesar_direccion(direccion):\n",
    "    if ' y ' in direccion:\n",
    "        # Reemplazar ' y ' por una coma\n",
    "        direccion = direccion.replace(' y ', ',')\n",
    "        # Buscar la posición de la coma reemplazada\n",
    "        index_coma = direccion.index(',')\n",
    "        # Encontrar la siguiente coma después de la que acabamos de poner y eliminarla\n",
    "        index_siguiente_coma = direccion.find(',', index_coma + 1)\n",
    "        if index_siguiente_coma != -1:  # Si se encuentra una coma siguiente\n",
    "            direccion = direccion[:index_siguiente_coma] + direccion[index_siguiente_coma+1:]\n",
    "    return direccion\n",
    "\n",
    "# Aplicar la función a la columna 'otra_direccion'\n",
    "df_lesiones_H['otra_direccion'] = df_lesiones_H['otra_direccion'].apply(procesar_direccion)\n",
    "\n"
   ]
  },
  {
   "cell_type": "markdown",
   "metadata": {},
   "source": []
  },
  {
   "cell_type": "code",
   "execution_count": 136,
   "metadata": {},
   "outputs": [
    {
     "name": "stdout",
     "output_type": "stream",
     "text": [
      "<class 'pandas.core.frame.DataFrame'>\n",
      "RangeIndex: 23785 entries, 0 to 23784\n",
      "Data columns (total 2 columns):\n",
      " #   Column  Non-Null Count  Dtype \n",
      "---  ------  --------------  ----- \n",
      " 0   calle   18326 non-null  object\n",
      " 1   cruce   11789 non-null  object\n",
      "dtypes: object(2)\n",
      "memory usage: 371.8+ KB\n",
      "None\n"
     ]
    }
   ],
   "source": [
    "# Función para procesar la columna 'otra_direccion' si no contiene 'SD'\n",
    "def procesar_direccion_si_no_SD(direccion, calle_actual, cruce_actual):\n",
    "    if 'SD' not in direccion:  # Verificar si 'SD' no está presente en la dirección\n",
    "        partes = direccion.split(',')\n",
    "        if len(partes) > 1:\n",
    "            calle = partes[0].strip()\n",
    "            cruce = partes[1].strip()\n",
    "            if 'Barrio' in cruce or 'jurisdicción comisaria' in cruce or 'Comisaria' in cruce:\n",
    "                cruce = None\n",
    "        else:\n",
    "            calle, cruce = None, None\n",
    "        return calle, cruce\n",
    "    else:\n",
    "        return calle_actual, cruce_actual  # Devolver los valores actuales de calle y cruce si 'SD' está presente\n",
    "\n",
    "# Aplicar la función a la columna 'otra_direccion' solo si no contiene la cadena 'SD'\n",
    "df_lesiones_H['calle'], df_lesiones_H['cruce'] = zip(*df_lesiones_H.apply(lambda row: procesar_direccion_si_no_SD(row['otra_direccion'], row['calle'], row['cruce']), axis=1))\n",
    "\n",
    "# Información sobre las columnas 'calle' y 'cruce' después de aplicar la función\n",
    "print(df_lesiones_H[['calle', 'cruce']].info())\n",
    "#df_lesiones_H.to_excel('hola.xlsx')"
   ]
  },
  {
   "cell_type": "code",
   "execution_count": 137,
   "metadata": {},
   "outputs": [],
   "source": [
    "import re\n",
    "# Función para eliminar los números al final de cada registro\n",
    "def eliminar_numeros_final_y_evaluar(categoria):\n",
    "    if pd.isna(categoria):\n",
    "        return categoria\n",
    "    else:\n",
    "        return re.sub(r'\\d{3}$', '', categoria)\n",
    "\n",
    "# Aplicar la función a la columna 'calle'\n",
    "df_lesiones_H['calle'] = df_lesiones_H['calle'].apply(eliminar_numeros_final_y_evaluar)"
   ]
  },
  {
   "cell_type": "code",
   "execution_count": 138,
   "metadata": {},
   "outputs": [],
   "source": [
    "import re\n",
    "import pandas as pd\n",
    "\n",
    "# Función para extraer la palabra en común y eliminar los números\n",
    "def unificar_categorias(categoria):\n",
    "    if pd.isna(categoria):  # Verificar si la categoría es NaN\n",
    "        return categoria\n",
    "    else:\n",
    "        palabras = categoria.split()[:3]\n",
    "        palabra_comun = ' '.join(palabras)  # Unir las tres primeras palabras\n",
    "        \n",
    "        # Eliminar los números al final de la palabra común\n",
    "        palabra_comun_sin_numeros = re.sub(r'\\d+$', '', palabra_comun)\n",
    "        \n",
    "        return palabra_comun_sin_numeros\n",
    "\n",
    "# Aplicar la función a la columna 'calle'\n",
    "df_lesiones_H['calle'] = df_lesiones_H['calle'].apply(unificar_categorias)\n"
   ]
  },
  {
   "cell_type": "code",
   "execution_count": 139,
   "metadata": {},
   "outputs": [],
   "source": [
    "df_lesiones_H.to_excel('hola2.xlsx')"
   ]
  },
  {
   "cell_type": "code",
   "execution_count": 140,
   "metadata": {},
   "outputs": [
    {
     "name": "stdout",
     "output_type": "stream",
     "text": [
      "<class 'pandas.core.frame.DataFrame'>\n",
      "RangeIndex: 23785 entries, 0 to 23784\n",
      "Data columns (total 27 columns):\n",
      " #   Column                 Non-Null Count  Dtype  \n",
      "---  ------                 --------------  -----  \n",
      " 0   id                     23785 non-null  object \n",
      " 1   n_victimas             23785 non-null  int64  \n",
      " 2   aaaa                   23785 non-null  int64  \n",
      " 3   mm                     23785 non-null  int64  \n",
      " 4   dd                     23785 non-null  int64  \n",
      " 5   fecha                  23785 non-null  object \n",
      " 6   hora                   23785 non-null  object \n",
      " 7   franja_hora            23780 non-null  object \n",
      " 8   direccion_normalizada  23732 non-null  object \n",
      " 9   comuna                 23616 non-null  object \n",
      " 10  tipo_calle             23785 non-null  object \n",
      " 11  otra_direccion         23785 non-null  object \n",
      " 12  calle                  18326 non-null  object \n",
      " 13  altura                 12771 non-null  float64\n",
      " 14  cruce                  11789 non-null  object \n",
      " 15  geocodificacion_CABA   23746 non-null  object \n",
      " 16  longitud               23523 non-null  object \n",
      " 17  latutid                23523 non-null  object \n",
      " 18  victima                23785 non-null  object \n",
      " 19  acusado                23785 non-null  object \n",
      " 20  participantes          23785 non-null  object \n",
      " 21  moto                   23692 non-null  object \n",
      " 22  auto                   23692 non-null  object \n",
      " 23  transporte_publico     23692 non-null  object \n",
      " 24  camion                 23692 non-null  object \n",
      " 25  ciclista               23692 non-null  object \n",
      " 26  gravedad               23785 non-null  object \n",
      "dtypes: float64(1), int64(4), object(22)\n",
      "memory usage: 4.9+ MB\n"
     ]
    }
   ],
   "source": [
    "df_lesiones_H.info()"
   ]
  },
  {
   "cell_type": "code",
   "execution_count": 141,
   "metadata": {},
   "outputs": [
    {
     "name": "stdout",
     "output_type": "stream",
     "text": [
      "Cantidad de registros de 'calle' que son 'SD': 0\n"
     ]
    }
   ],
   "source": [
    "# Contar cuántos registros de 'calle' son 'SD'\n",
    "cantidad_SD = (df_lesiones_H['calle'] == 'SD').sum()\n",
    "\n",
    "# Imprimir el resultado\n",
    "print(\"Cantidad de registros de 'calle' que son 'SD':\", cantidad_SD)"
   ]
  },
  {
   "cell_type": "code",
   "execution_count": 142,
   "metadata": {},
   "outputs": [
    {
     "name": "stdout",
     "output_type": "stream",
     "text": [
      "Cantidad de registros de 'cruce' que son 'SD': 0\n"
     ]
    }
   ],
   "source": [
    "# Contar cuántos registros de 'calle' son 'SD'\n",
    "cantidad_SD = (df_lesiones_H['cruce'] == 'SD').sum()\n",
    "\n",
    "# Imprimir el resultado\n",
    "print(\"Cantidad de registros de 'cruce' que son 'SD':\", cantidad_SD)"
   ]
  },
  {
   "cell_type": "markdown",
   "metadata": {},
   "source": [
    "conserva la totalidad de registros."
   ]
  },
  {
   "cell_type": "code",
   "execution_count": 143,
   "metadata": {},
   "outputs": [
    {
     "ename": "NameError",
     "evalue": "name 'df_homicidios_V' is not defined",
     "output_type": "error",
     "traceback": [
      "\u001b[1;31m---------------------------------------------------------------------------\u001b[0m",
      "\u001b[1;31mNameError\u001b[0m                                 Traceback (most recent call last)",
      "\u001b[1;32m~\\AppData\\Local\\Temp\\ipykernel_28432\\880825844.py\u001b[0m in \u001b[0;36m<module>\u001b[1;34m\u001b[0m\n\u001b[1;32m----> 1\u001b[1;33m \u001b[0mdf_homicidios_V\u001b[0m\u001b[1;33m.\u001b[0m\u001b[0mhead\u001b[0m\u001b[1;33m(\u001b[0m\u001b[1;33m)\u001b[0m\u001b[1;33m\u001b[0m\u001b[1;33m\u001b[0m\u001b[0m\n\u001b[0m",
      "\u001b[1;31mNameError\u001b[0m: name 'df_homicidios_V' is not defined"
     ]
    }
   ],
   "source": [
    "df_homicidios_V.head()"
   ]
  },
  {
   "cell_type": "markdown",
   "metadata": {},
   "source": [
    "## 4.2 Columnas irrelevantes\n",
    "\n",
    "Una columna irrelevante puede ser:\n",
    "\n",
    "- **Una columna que no contiene información relevante para el problema que queremos resolver**.\n",
    "- **Una columna categórica pero con un sólo nivel**. \n",
    "- **Una columna numérica pero con un sólo valor**.\n",
    "- **Columnas con información redundante**.\n",
    "\n",
    "En este caso todas las columnas pueden resultar relevantes, pero debemos verificar que no haya columnas categóricas con un sólo nivel, o columnas numéricas con un sólo valor:"
   ]
  },
  {
   "cell_type": "code",
   "execution_count": null,
   "metadata": {},
   "outputs": [
    {
     "name": "stdout",
     "output_type": "stream",
     "text": [
      "Columna ROL: 5 subniveles\n",
      "Columna VICTIMA: 8 subniveles\n",
      "Columna SEXO: 3 subniveles\n",
      "Columna EDAD: 86 subniveles\n",
      "Columna VICTIMA: 8 subniveles\n",
      "Columna FECHA_FALLECIMIENTO: 563 subniveles\n"
     ]
    }
   ],
   "source": [
    "# Conteo de los niveles en las diferentes columnas categóricas\n",
    "cols_cat = ['ROL', 'VICTIMA', 'SEXO','EDAD', 'VICTIMA', 'FECHA_FALLECIMIENTO' ]\n",
    "for col in cols_cat:\n",
    "  print(f'Columna {col}: {df_homicidios_V[col].nunique()} subniveles')"
   ]
  },
  {
   "cell_type": "markdown",
   "metadata": {},
   "source": [
    "Todas las columnas categóricas tienen más de 1 subnivel. No eliminaremos ninguna.\n",
    "\n",
    "Verifiquemos lo que ocurre con las columnas numéricas:"
   ]
  },
  {
   "cell_type": "code",
   "execution_count": null,
   "metadata": {},
   "outputs": [
    {
     "data": {
      "text/html": [
       "<div>\n",
       "<style scoped>\n",
       "    .dataframe tbody tr th:only-of-type {\n",
       "        vertical-align: middle;\n",
       "    }\n",
       "\n",
       "    .dataframe tbody tr th {\n",
       "        vertical-align: top;\n",
       "    }\n",
       "\n",
       "    .dataframe thead th {\n",
       "        text-align: right;\n",
       "    }\n",
       "</style>\n",
       "<table border=\"1\" class=\"dataframe\">\n",
       "  <thead>\n",
       "    <tr style=\"text-align: right;\">\n",
       "      <th></th>\n",
       "      <th>AAAA</th>\n",
       "      <th>MM</th>\n",
       "      <th>DD</th>\n",
       "    </tr>\n",
       "  </thead>\n",
       "  <tbody>\n",
       "    <tr>\n",
       "      <th>count</th>\n",
       "      <td>717.000000</td>\n",
       "      <td>717.000000</td>\n",
       "      <td>717.000000</td>\n",
       "    </tr>\n",
       "    <tr>\n",
       "      <th>mean</th>\n",
       "      <td>2018.174338</td>\n",
       "      <td>6.688982</td>\n",
       "      <td>15.960948</td>\n",
       "    </tr>\n",
       "    <tr>\n",
       "      <th>std</th>\n",
       "      <td>1.672655</td>\n",
       "      <td>3.575140</td>\n",
       "      <td>8.683358</td>\n",
       "    </tr>\n",
       "    <tr>\n",
       "      <th>min</th>\n",
       "      <td>2016.000000</td>\n",
       "      <td>1.000000</td>\n",
       "      <td>1.000000</td>\n",
       "    </tr>\n",
       "    <tr>\n",
       "      <th>25%</th>\n",
       "      <td>2017.000000</td>\n",
       "      <td>4.000000</td>\n",
       "      <td>9.000000</td>\n",
       "    </tr>\n",
       "    <tr>\n",
       "      <th>50%</th>\n",
       "      <td>2018.000000</td>\n",
       "      <td>7.000000</td>\n",
       "      <td>16.000000</td>\n",
       "    </tr>\n",
       "    <tr>\n",
       "      <th>75%</th>\n",
       "      <td>2019.000000</td>\n",
       "      <td>10.000000</td>\n",
       "      <td>23.000000</td>\n",
       "    </tr>\n",
       "    <tr>\n",
       "      <th>max</th>\n",
       "      <td>2021.000000</td>\n",
       "      <td>12.000000</td>\n",
       "      <td>31.000000</td>\n",
       "    </tr>\n",
       "  </tbody>\n",
       "</table>\n",
       "</div>"
      ],
      "text/plain": [
       "              AAAA          MM          DD\n",
       "count   717.000000  717.000000  717.000000\n",
       "mean   2018.174338    6.688982   15.960948\n",
       "std       1.672655    3.575140    8.683358\n",
       "min    2016.000000    1.000000    1.000000\n",
       "25%    2017.000000    4.000000    9.000000\n",
       "50%    2018.000000    7.000000   16.000000\n",
       "75%    2019.000000   10.000000   23.000000\n",
       "max    2021.000000   12.000000   31.000000"
      ]
     },
     "execution_count": 40,
     "metadata": {},
     "output_type": "execute_result"
    }
   ],
   "source": [
    "df_homicidios_V.describe()"
   ]
  },
  {
   "cell_type": "markdown",
   "metadata": {},
   "source": [
    "Todas las columnas numéricas tienen desviaciones estándar (\"std\") diferentes de cero, lo que indica que no tienen un único valor.\n",
    "\n",
    "Preservaremos todas las columnas numéricas."
   ]
  },
  {
   "cell_type": "markdown",
   "metadata": {},
   "source": [
    "## 4.3 Filas repetidas "
   ]
  },
  {
   "cell_type": "code",
   "execution_count": null,
   "metadata": {},
   "outputs": [
    {
     "name": "stdout",
     "output_type": "stream",
     "text": [
      "Tamaño del set antes de eliminar las filas repetidas: (717, 10)\n",
      "Tamaño del set después de eliminar las filas repetidas: (717, 10)\n"
     ]
    }
   ],
   "source": [
    "print(f'Tamaño del set antes de eliminar las filas repetidas: {df_homicidios_V.shape}')\n",
    "df_homicidios_V.drop_duplicates(inplace=True)\n",
    "print(f'Tamaño del set después de eliminar las filas repetidas: {df_homicidios_V.shape}')"
   ]
  },
  {
   "cell_type": "markdown",
   "metadata": {},
   "source": [
    "## 4.4 *Outliers* en las variables numéricas \n",
    "\n",
    "No siempre se deben eliminar los *outliers* porque dependiendo de la variable numérica analizada estos pueden contener información importante.\n",
    "\n",
    "Creemos gráficas tipo \"boxplot\" de las columnas numéricas:"
   ]
  },
  {
   "cell_type": "code",
   "execution_count": null,
   "metadata": {},
   "outputs": [
    {
     "data": {
      "image/png": "[encoded data removed]",
      "text/plain": [
       "<Figure size 800x800 with 3 Axes>"
      ]
     },
     "metadata": {},
     "output_type": "display_data"
    }
   ],
   "source": [
    "# Generar gráficas individuales pues las variables numéricas\n",
    "# están en rangos diferentes\n",
    "cols_num = ['AAAA', 'MM', 'DD']\n",
    "\n",
    "fig, ax = plt.subplots(nrows=3, ncols=1, figsize=(8,8))\n",
    "fig.subplots_adjust(hspace=0.5)\n",
    "\n",
    "for i, col in enumerate(cols_num):\n",
    "    sns.boxplot(x=col, data=df_homicidios_V, ax=ax[i])\n",
    "    ax[i].set_title(col)"
   ]
  },
  {
   "cell_type": "markdown",
   "metadata": {},
   "source": [
    "# 4.5 Errores tipográficos en variables categóricas\n",
    "En una variable categórica pueden aparecer sub-niveles como \"unknown\" y \"UNK\" que para nosotros son equivalentes pero que para nuestro programa parecerían diferentes.\n",
    "\n",
    "Se deben unificar estos sub-niveles"
   ]
  },
  {
   "cell_type": "code",
   "execution_count": null,
   "metadata": {},
   "outputs": [
    {
     "data": {
      "image/png": "[encoded data removed]",
      "text/plain": [
       "<Figure size 1000x1000 with 3 Axes>"
      ]
     },
     "metadata": {},
     "output_type": "display_data"
    }
   ],
   "source": [
    "# Graficar los subniveles de cada variable categórica\n",
    "cols_cat = [ 'ROL', 'VICTIMA', 'SEXO' ]\n",
    "\n",
    "fig, ax = plt.subplots(nrows=3, ncols=1, figsize=(10,10))\n",
    "fig.subplots_adjust(hspace=1)\n",
    "\n",
    "for i, col in enumerate(cols_cat):\n",
    "  sns.countplot(x=col, data=df_homicidios_V, ax=ax[i])\n",
    "  ax[i].set_title(col)\n",
    "  ax[i].set_xticklabels(ax[i].get_xticklabels(),rotation=30)"
   ]
  },
  {
   "cell_type": "markdown",
   "metadata": {},
   "source": [
    "Eliminamos los registros que contienen 'SD' sin dato debido a que el análisis se puede afectado por registros que en realidad no tienen una información precisa."
   ]
  },
  {
   "cell_type": "code",
   "execution_count": null,
   "metadata": {},
   "outputs": [
    {
     "data": {
      "text/plain": [
       "(702, 10)"
      ]
     },
     "execution_count": 50,
     "metadata": {},
     "output_type": "execute_result"
    }
   ],
   "source": [
    "df_homicidios_V = df_homicidios_V[~df_homicidios_V['ROL'].str.contains('SD')]\n",
    "df_homicidios_V = df_homicidios_V[~df_homicidios_V['SEXO'].str.contains('SD')]\n",
    "df_homicidios_V = df_homicidios_V[~df_homicidios_V['VICTIMA'].str.contains('SD')]\n",
    "df_homicidios_V.shape"
   ]
  },
  {
   "cell_type": "markdown",
   "metadata": {},
   "source": [
    "¡Y listo, ya hemos realizado la limpieza de nuestro set de datos!\n",
    "\n",
    "Originalmente tenía 717 registros y 10 columnas. El dataset resultante tiene 702 filas (27 menos) y 18 columnas.\n",
    "\n",
    "El set de datos ya está listo para el Análisis Exploratorio."
   ]
  },
  {
   "cell_type": "code",
   "execution_count": null,
   "metadata": {},
   "outputs": [],
   "source": [
    "# Guardar el DataFrame como un archivo CSV sin incluir el índice\n",
    "df_homicidios_V.to_csv('homicidios_V.csv', index=False)"
   ]
  }
 ],
 "metadata": {
  "kernelspec": {
   "display_name": "Python 3",
   "language": "python",
   "name": "python3"
  },
  "language_info": {
   "codemirror_mode": {
    "name": "ipython",
    "version": 3
   },
   "file_extension": ".py",
   "mimetype": "text/x-python",
   "name": "python",
   "nbconvert_exporter": "python",
   "pygments_lexer": "ipython3",
   "version": "3.7.8"
  }
 },
 "nbformat": 4,
 "nbformat_minor": 2
}
